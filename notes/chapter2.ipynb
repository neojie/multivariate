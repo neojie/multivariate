{
  "nbformat": 4,
  "nbformat_minor": 0,
  "metadata": {
    "colab": {
      "name": "Copy of Untitled0.ipynb",
      "provenance": [],
      "authorship_tag": "ABX9TyM2h39KxKkl7Pzyzzrudttv",
      "include_colab_link": true
    },
    "kernelspec": {
      "name": "python3",
      "display_name": "Python 3"
    }
  },
  "cells": [
    {
      "cell_type": "markdown",
      "metadata": {
        "id": "view-in-github",
        "colab_type": "text"
      },
      "source": [
        "<a href=\"https://colab.research.google.com/github/neojie/multivariate/blob/master/notes/chapter2.ipynb\" target=\"_parent\"><img src=\"https://colab.research.google.com/assets/colab-badge.svg\" alt=\"Open In Colab\"/></a>"
      ]
    },
    {
      "cell_type": "markdown",
      "metadata": {
        "id": "29jsfA1u8PD3"
      },
      "source": [
        "Chapter 2"
      ]
    },
    {
      "cell_type": "markdown",
      "metadata": {
        "id": "viKmqWJD8Vez"
      },
      "source": [
        "source https://datascienceplus.com/understanding-the-covariance-matrix/\n",
        "\n",
        "https://meshlogic.github.io/posts/jupyter/linear-algebra/linear-algebra-numpy-2/\n"
      ]
    },
    {
      "cell_type": "markdown",
      "metadata": {
        "id": "JHVztYSRIomM"
      },
      "source": [
        "## 2.3 Positive definite matrices"
      ]
    },
    {
      "cell_type": "markdown",
      "metadata": {
        "id": "jcoAKzxqI4_o"
      },
      "source": [
        "quadratic form\n",
        "\n",
        "> Indented block\n",
        "\n",
        "\n",
        "Spectral decomposition\n",
        "\n",
        "\n"
      ]
    },
    {
      "cell_type": "markdown",
      "metadata": {
        "id": "Cqu_aZWDI5sR"
      },
      "source": [
        ""
      ]
    },
    {
      "cell_type": "markdown",
      "metadata": {
        "id": "xFafJl-rI6Fv"
      },
      "source": [
        ""
      ]
    },
    {
      "cell_type": "code",
      "metadata": {
        "id": "0CQejgK-IuCe"
      },
      "source": [
        ""
      ],
      "execution_count": null,
      "outputs": []
    }
  ]
}